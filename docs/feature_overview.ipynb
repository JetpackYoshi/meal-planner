{
 "cells": [
  {
   "cell_type": "markdown",
   "id": "ef4bb0c0",
   "metadata": {},
   "source": [
    "# Dietary Model Examples\n",
    "\n",
    "This notebook demonstrates how to use the dietary classification library to:\n",
    "\n",
    "- Define a hierarchy of food categories\n",
    "- Register and classify dietary restrictions using canonical tags\n",
    "- Create ingredients and meals\n",
    "- Define people with tagged or custom restrictions\n",
    "- Analyze meal compatibility\n",
    "- Score and filter meals\n",
    "- Explore tags by category"
   ]
  },
  {
   "cell_type": "markdown",
   "id": "fc8fdb4d",
   "metadata": {},
   "source": [
    "First, let's import the dietary_model library, along with a few extras that we'll use for visualization later on."
   ]
  },
  {
   "cell_type": "code",
   "execution_count": 1,
   "id": "a23a67e5",
   "metadata": {},
   "outputs": [],
   "source": [
    "\n",
    "from mealplanner.dietary_model import *\n",
    "from mealplanner.natural_language_parsing import *\n",
    "\n",
    "import matplotlib.pyplot as plt\n",
    "import seaborn as sns\n",
    "import pandas as pd"
   ]
  },
  {
   "cell_type": "markdown",
   "id": "5640a946",
   "metadata": {},
   "source": [
    "## 1. Define Food Categories\n",
    "\n",
    "Food categories support hierarchy. For example, CHEESE is a type of DAIRY, which is a type of ANIMAL_PRODUCTS.\n",
    "These relationships allow general restrictions (like \"no ANIMAL_PRODUCTS\") to apply to all children.\n",
    "\n",
    "To get the best use out of this library, hierarchial configuration is **strongly** advised."
   ]
  },
  {
   "cell_type": "code",
   "execution_count": 2,
   "id": "5329dc4b",
   "metadata": {},
   "outputs": [
    {
     "data": {
      "text/plain": [
       "FoodCategory(TOFU)"
      ]
     },
     "execution_count": 2,
     "metadata": {},
     "output_type": "execute_result"
    }
   ],
   "source": [
    "FoodCategory.reset()\n",
    "FoodCategory.define(\"ANIMAL_PRODUCTS\")\n",
    "FoodCategory.define(\"MEAT\", {\"ANIMAL_PRODUCTS\"})\n",
    "FoodCategory.define(\"DAIRY\", {\"ANIMAL_PRODUCTS\"})\n",
    "FoodCategory.define(\"FISH\", {\"ANIMAL_PRODUCTS\"})\n",
    "FoodCategory.define(\"SHELLFISH\", {\"ANIMAL_PRODUCTS\"})\n",
    "FoodCategory.define(\"NUTS\")\n",
    "FoodCategory.define(\"CHEESE\", {\"DAIRY\"})\n",
    "FoodCategory.define(\"SALMON\", {\"FISH\"})\n",
    "FoodCategory.define(\"CHICKEN\", {\"MEAT\"})\n",
    "FoodCategory.define(\"ALMOND\", {\"NUTS\"})\n",
    "FoodCategory.define(\"TOFU\")"
   ]
  },
  {
   "cell_type": "markdown",
   "id": "ba20ce6b",
   "metadata": {},
   "source": [
    "The `FoodCategory` class itself stores this defined registry of categories globally. You can verify that your food categories have been registered properly like this:"
   ]
  },
  {
   "cell_type": "code",
   "execution_count": 3,
   "id": "e65cc387",
   "metadata": {},
   "outputs": [
    {
     "data": {
      "text/plain": [
       "[FoodCategory(ANIMAL_PRODUCTS),\n",
       " FoodCategory(MEAT),\n",
       " FoodCategory(DAIRY),\n",
       " FoodCategory(FISH),\n",
       " FoodCategory(SHELLFISH),\n",
       " FoodCategory(NUTS),\n",
       " FoodCategory(CHEESE),\n",
       " FoodCategory(SALMON),\n",
       " FoodCategory(CHICKEN),\n",
       " FoodCategory(ALMOND),\n",
       " FoodCategory(TOFU)]"
      ]
     },
     "execution_count": 3,
     "metadata": {},
     "output_type": "execute_result"
    }
   ],
   "source": [
    "FoodCategory.all()"
   ]
  },
  {
   "cell_type": "markdown",
   "id": "879b2525",
   "metadata": {},
   "source": [
    "## 2. Register Canonical Tags\n",
    "\n",
    "Tags are registered with associated restrictions and optional category labels (e.g. \"ethical\", \"allergen\").\n",
    "This allows for flexible tagging of people and meals."
   ]
  },
  {
   "cell_type": "code",
   "execution_count": 4,
   "id": "a8beef2b",
   "metadata": {},
   "outputs": [],
   "source": [
    "\n",
    "tag_registry._tag_map.clear()\n",
    "tag_registry.register_tag(\"VEGAN\", DietaryRestriction({\"ANIMAL_PRODUCTS\"}), category=\"ethical\")\n",
    "tag_registry.register_tag(\"VEGETARIAN\", DietaryRestriction({\"MEAT\", \"FISH\", \"SHELLFISH\"}), category=\"ethical\")\n",
    "tag_registry.register_tag(\"PESCATARIAN\", DietaryRestriction({\"MEAT\"}), category=\"ethical\")\n",
    "tag_registry.register_tag(\"NUT-FREE\", DietaryRestriction({\"NUTS\"}), category=\"allergen\")\n",
    "tag_registry.register_tag(\"DAIRY-FREE\", DietaryRestriction({\"DAIRY\"}), category=\"allergen\")\n"
   ]
  },
  {
   "cell_type": "markdown",
   "id": "241fe785",
   "metadata": {},
   "source": [
    "## 3. Create Ingredients and Meals\n",
    "\n",
    "A meal is a list of ingredients. Each ingredient has a category, caloric value, and optional allergens."
   ]
  },
  {
   "cell_type": "code",
   "execution_count": 5,
   "id": "ca47fb15",
   "metadata": {},
   "outputs": [],
   "source": [
    "\n",
    "cheese = Ingredient(\"Aged Cheddar\", FoodCategory.get(\"CHEESE\"), 100)\n",
    "salmon = Ingredient(\"Wild Salmon\", FoodCategory.get(\"SALMON\"), 180)\n",
    "almond = Ingredient(\"Toasted Almonds\", FoodCategory.get(\"ALMOND\"), 150)\n",
    "tofu = Ingredient(\"Fried Tofu\", FoodCategory.get(\"TOFU\"), 130)\n",
    "\n",
    "meals = [\n",
    "    Meal(\"Cheese & Almond Plate\", [cheese, almond]),\n",
    "    Meal(\"Salmon Bowl\", [salmon]),\n",
    "    Meal(\"Tofu Delight\", [tofu])\n",
    "]\n"
   ]
  },
  {
   "cell_type": "markdown",
   "id": "4997c45f",
   "metadata": {},
   "source": [
    "## 4. Define People and Restrictions\n",
    "\n",
    "You can define a person either by a known tag (like \"VEGAN\") or by a custom DietaryRestriction."
   ]
  },
  {
   "cell_type": "code",
   "execution_count": 6,
   "id": "59eef6a4",
   "metadata": {},
   "outputs": [
    {
     "name": "stdout",
     "output_type": "stream",
     "text": [
      "\n",
      "=== People and their tags ===\n",
      "- Alex [VEGAN]\n",
      "- Jamie [PESCATARIAN]\n",
      "- Sam [NUT-FREE]\n",
      "- Taylor [DAIRY-FREE | FISH-FREE]\n"
     ]
    }
   ],
   "source": [
    "\n",
    "people = [\n",
    "    Person(\"Alex\", tag=\"VEGAN\"),\n",
    "    Person(\"Jamie\", tag=\"PESCATARIAN\"),\n",
    "    Person(\"Sam\", tag=\"NUT-FREE\"),\n",
    "    Person(\"Taylor\", restriction=DietaryRestriction({\"DAIRY\", \"FISH\"}))\n",
    "]\n",
    "\n",
    "print(\"\\n=== People and their tags ===\")\n",
    "for p in people:\n",
    "    print(\"-\", p.label())\n"
   ]
  },
  {
   "cell_type": "markdown",
   "id": "347cc581",
   "metadata": {},
   "source": [
    "## 5. Analyze Meal Compatibility\n",
    "\n",
    "Use `MealCompatibilityAnalyzer` to evaluate which meals each person can eat, and to generate scores or universal options."
   ]
  },
  {
   "cell_type": "code",
   "execution_count": 7,
   "id": "22337559",
   "metadata": {},
   "outputs": [
    {
     "name": "stdout",
     "output_type": "stream",
     "text": [
      "\n",
      "=== Compatibility Matrix (Markdown) ===\n",
      "|                       | Alex [VEGAN]   | Jamie [PESCATARIAN]   | Sam [NUT-FREE]   | Taylor [DAIRY-FREE | FISH-FREE]   |\n",
      "|:----------------------|:---------------|:----------------------|:-----------------|:----------------------------------|\n",
      "| Cheese & Almond Plate | ❌             | ✅                    | ❌               | ❌                                |\n",
      "| Salmon Bowl           | ❌             | ✅                    | ✅               | ❌                                |\n",
      "| Tofu Delight          | ✅             | ✅                    | ✅               | ✅                                |\n",
      "\n",
      "=== Most Compatible Meals ===\n",
      "              Alex [VEGAN]  Jamie [PESCATARIAN]  Sam [NUT-FREE]  \\\n",
      "Tofu Delight          True                 True            True   \n",
      "Salmon Bowl          False                 True            True   \n",
      "\n",
      "              Taylor [DAIRY-FREE | FISH-FREE]  Compatible_Count  \n",
      "Tofu Delight                             True                 4  \n",
      "Salmon Bowl                             False                 2  \n",
      "\n",
      "=== Universally Compatible Meals ===\n",
      "              Alex [VEGAN]  Jamie [PESCATARIAN]  Sam [NUT-FREE]  \\\n",
      "Tofu Delight          True                 True            True   \n",
      "\n",
      "              Taylor [DAIRY-FREE | FISH-FREE]  \n",
      "Tofu Delight                             True  \n"
     ]
    }
   ],
   "source": [
    "\n",
    "analyzer = MealCompatibilityAnalyzer(meals, people)\n",
    "print(\"\\n=== Compatibility Matrix (Markdown) ===\")\n",
    "analyzer.print_matrix(mode=\"markdown\")\n",
    "\n",
    "print(\"\\n=== Most Compatible Meals ===\")\n",
    "print(analyzer.get_most_compatible_meals(top_n=2))\n",
    "\n",
    "print(\"\\n=== Universally Compatible Meals ===\")\n",
    "print(analyzer.get_universally_compatible_meals())\n"
   ]
  },
  {
   "cell_type": "markdown",
   "id": "19db77d1",
   "metadata": {},
   "source": [
    "### 🔍 Visualize Compatibility Scores"
   ]
  },
  {
   "cell_type": "code",
   "execution_count": 8,
   "id": "f6ea5ed3",
   "metadata": {},
   "outputs": [
    {
     "data": {
      "image/png": "[encoded data removed]",
      "text/plain": [
       "<Figure size 640x480 with 1 Axes>"
      ]
     },
     "metadata": {},
     "output_type": "display_data"
    }
   ],
   "source": [
    "scores = analyzer.score_meals()\n",
    "scores.plot(kind='barh', color='skyblue', edgecolor='black')\n",
    "plt.title(\"Number of People Compatible with Each Meal\")\n",
    "plt.xlabel(\"Compatible People\")\n",
    "plt.ylabel(\"Meal\")\n",
    "plt.tight_layout()\n",
    "plt.show()"
   ]
  },
  {
   "cell_type": "markdown",
   "id": "dabce0aa",
   "metadata": {},
   "source": [
    "### 🔍 Heatmap of Compatibility Matrix"
   ]
  },
  {
   "cell_type": "code",
   "execution_count": 9,
   "id": "571c06c6",
   "metadata": {},
   "outputs": [
    {
     "data": {
      "image/png": "[encoded data removed]",
      "text/plain": [
       "<Figure size 640x480 with 1 Axes>"
      ]
     },
     "metadata": {},
     "output_type": "display_data"
    }
   ],
   "source": [
    "matrix = analyzer.get_matrix().astype(int)\n",
    "sns.heatmap(matrix, annot=True, cmap=\"YlGnBu\", cbar=False)\n",
    "plt.title(\"Meal Compatibility Heatmap (1 = Compatible)\")\n",
    "plt.xticks(rotation=45, ha='right')\n",
    "plt.tight_layout()\n",
    "plt.show()"
   ]
  },
  {
   "cell_type": "markdown",
   "id": "aa9e19ad",
   "metadata": {},
   "source": [
    "## 6. Explore Tags by Category\n",
    "\n",
    "Tags can be grouped by category for filtering or display."
   ]
  },
  {
   "cell_type": "code",
   "execution_count": 10,
   "id": "3dcbe569",
   "metadata": {},
   "outputs": [
    {
     "name": "stdout",
     "output_type": "stream",
     "text": [
      "\n",
      "=== Tags by Category ===\n",
      "Ethical: ['VEGAN', 'VEGETARIAN', 'PESCATARIAN']\n",
      "Allergen: ['NUT-FREE', 'DAIRY-FREE']\n"
     ]
    }
   ],
   "source": [
    "\n",
    "print(\"\\n=== Tags by Category ===\")\n",
    "print(\"Ethical:\", tag_registry.get_tags_by_category(\"ethical\"))\n",
    "print(\"Allergen:\", tag_registry.get_tags_by_category(\"allergen\"))"
   ]
  },
  {
   "cell_type": "markdown",
   "id": "79f89adb",
   "metadata": {},
   "source": [
    "## 7. Natural Language Parsing\n",
    "\n",
    "This library also allows for the parsing of natural descriptor strings for generating DietaryRestriction objects. It also uses fuzzy logic to handle misspellings (useful if gathering information from forms)"
   ]
  },
  {
   "cell_type": "code",
   "execution_count": 11,
   "id": "f4e1a2ae",
   "metadata": {},
   "outputs": [
    {
     "name": "stdout",
     "output_type": "stream",
     "text": [
      "Input: Vegetarian and dairy free\n",
      "  Matched: ['vegetarian', 'dairy']\n",
      "  Fuzzy:   []\n",
      "  Exclusions: ['DAIRY', 'FISH', 'MEAT', 'SHELLFISH']\n",
      "  Reason: Matched exclusions via keyword and/or fuzzy matching\n",
      "---\n",
      "Input: No restrictions\n",
      "  Matched: []\n",
      "  Fuzzy:   []\n",
      "  Exclusions: []\n",
      "  Reason: No exclusions matched\n",
      "---\n",
      "Input: Lactose intollerant\n",
      "  Matched: ['lactose']\n",
      "  Fuzzy:   []\n",
      "  Exclusions: ['DAIRY']\n",
      "  Reason: Matched exclusions via keyword and/or fuzzy matching\n",
      "---\n",
      "Input: vegan (no milk, egg, meat)\n",
      "  Matched: ['vegan', 'milk', 'egg', 'meat']\n",
      "  Fuzzy:   []\n",
      "  Exclusions: ['ANIMAL_PRODUCTS', 'DAIRY', 'EGGS', 'MEAT']\n",
      "  Reason: Matched exclusions via keyword and/or fuzzy matching\n",
      "---\n",
      "Input: Shellfish and peenut allergy\n",
      "  Matched: ['shellfish']\n",
      "  Fuzzy:   []\n",
      "  Exclusions: ['SHELLFISH']\n",
      "  Reason: Matched exclusions via keyword and/or fuzzy matching\n",
      "---\n",
      "Input: I can eat everything\n",
      "  Matched: []\n",
      "  Fuzzy:   []\n",
      "  Exclusions: []\n",
      "  Reason: Matched known unrestricted phrase\n",
      "---\n"
     ]
    }
   ],
   "source": [
    "samples = [\n",
    "    \"Vegetarian and dairy free\",\n",
    "    \"No restrictions\",\n",
    "    \"Lactose intollerant\",\n",
    "    \"vegan (no milk, egg, meat)\",\n",
    "    \"Shellfish and peenut allergy\",\n",
    "    \"I can eat everything\"\n",
    "]\n",
    "\n",
    "parsed = [parse_freeform_restriction(s, return_debug=True) for s in samples]\n",
    "\n",
    "# Display results\n",
    "for (restriction, debug) in parsed:\n",
    "    print(f\"Input: {debug['input']}\")\n",
    "    print(f\"  Matched: {debug['matched_terms']}\")\n",
    "    print(f\"  Fuzzy:   {debug['fuzzy_matches']}\")\n",
    "    print(f\"  Exclusions: {debug['exclusions']}\")\n",
    "    print(f\"  Reason: {debug['reason']}\")\n",
    "    print(\"---\")"
   ]
  }
 ],
 "metadata": {
  "kernelspec": {
   "display_name": ".venv",
   "language": "python",
   "name": "python3"
  },
  "language_info": {
   "codemirror_mode": {
    "name": "ipython",
    "version": 3
   },
   "file_extension": ".py",
   "mimetype": "text/x-python",
   "name": "python",
   "nbconvert_exporter": "python",
   "pygments_lexer": "ipython3",
   "version": "3.10.12"
  }
 },
 "nbformat": 4,
 "nbformat_minor": 5
}
