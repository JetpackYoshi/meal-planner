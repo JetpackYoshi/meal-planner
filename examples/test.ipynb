{
 "cells": [
  {
   "cell_type": "code",
   "execution_count": null,
   "id": "0d39408d",
   "metadata": {},
   "outputs": [],
   "source": [
    "from mealplanner.dietary_model import *"
   ]
  },
  {
   "cell_type": "code",
   "execution_count": null,
   "id": "12f53cf2",
   "metadata": {},
   "outputs": [],
   "source": [
    "# Setup categories\n",
    "FoodCategory.reset()\n",
    "FoodCategory.define(\"ANIMAL_PRODUCTS\")\n",
    "FoodCategory.define(\"MEAT\", {\"ANIMAL_PRODUCTS\"})\n",
    "FoodCategory.define(\"DAIRY\", {\"ANIMAL_PRODUCTS\"})\n",
    "FoodCategory.define(\"EGGS\", {\"ANIMAL_PRODUCTS\"})\n",
    "FoodCategory.define(\"FISH\", {\"ANIMAL_PRODUCTS\"})\n",
    "\n",
    "FoodCategory.define(\"NUTS\")\n",
    "FoodCategory.define(\"CHEESE\", {\"DAIRY\"})\n",
    "FoodCategory.define(\"CHICKEN\", {\"MEAT\"})\n",
    "FoodCategory.define(\"BEEF\", {\"MEAT\"})\n",
    "FoodCategory.define(\"ALMOND\", {\"NUTS\"})"
   ]
  },
  {
   "cell_type": "code",
   "execution_count": null,
   "id": "c530575e",
   "metadata": {},
   "outputs": [],
   "source": [
    "# Define restrictions\n",
    "vegan = DietaryRestriction({\"ANIMAL_PRODUCTS\"})\n",
    "vegetarian = DietaryRestriction({\"MEAT\", \"FISH\"})\n",
    "pescatarian = DietaryRestriction({\"MEAT\"})\n",
    "nut_free = DietaryRestriction({\"NUTS\"})\n",
    "dairy_free = DietaryRestriction({\"DAIRY\"})\n",
    "\n",
    "tag_registry.register_tag(\"VEGAN\", DietaryRestriction({\"ANIMAL_PRODUCTS\"}), category=\"ethical\")\n",
    "tag_registry.register_tag(\"VEGETARIAN\", DietaryRestriction({\"MEAT\", \"FISH\", \"SHELLFISH\"}), category=\"ethical\")\n",
    "tag_registry.register_tag(\"PESCATARIAN\", DietaryRestriction({\"MEAT\"}), category=\"ethical\")\n",
    "tag_registry.register_tag(\"NUT-FREE\", DietaryRestriction({\"NUTS\"}), category=\"allergen\")\n",
    "tag_registry.register_tag(\"DAIRY-FREE\", DietaryRestriction({\"DAIRY\"}), category=\"allergen\")"
   ]
  },
  {
   "cell_type": "code",
   "execution_count": null,
   "id": "86381a25",
   "metadata": {},
   "outputs": [],
   "source": [
    "# Create some ingredients\n",
    "salmon = Ingredient(\"Salmon Fillet\", FoodCategory.get(\"FISH\"), 200)\n",
    "cheese = Ingredient(\"Cheddar Cheese\", FoodCategory.get(\"CHEESE\"), 113, {\"milk\"})\n",
    "chicken = Ingredient(\"Grilled Chicken\", FoodCategory.get(\"CHICKEN\"), 165)\n",
    "almonds = Ingredient(\"Sliced Almonds\", FoodCategory.get(\"ALMOND\"), 170, {\"nuts\"})"
   ]
  },
  {
   "cell_type": "code",
   "execution_count": null,
   "id": "21eacb19",
   "metadata": {},
   "outputs": [],
   "source": [
    "# People\n",
    "people = [\n",
    "    Person(\"Alex\", tag=\"vegan\"),\n",
    "    Person(\"Jamie\", restriction=DietaryRestriction({\"MEAT\"})),\n",
    "    Person(\"Sam\", restriction=nut_free),\n",
    "]"
   ]
  },
  {
   "cell_type": "code",
   "execution_count": null,
   "id": "c0868d40",
   "metadata": {},
   "outputs": [],
   "source": [
    "# Meals\n",
    "meals = [\n",
    "    Meal(\"Grilled Salmon\", [salmon]),\n",
    "    Meal(\"Chicken Alfredo\", [chicken, cheese]),\n",
    "    Meal(\"Vegan Bowl\", []),\n",
    "    Meal(\"Nutty Salad\", [almonds]),\n",
    "    Meal(\"Plain Rice\", []),\n",
    "]\n",
    "\n",
    "analyzer = MealCompatibilityAnalyzer(meals, people)\n",
    "\n",
    "# Print the raw matrix\n",
    "analyzer.print_matrix()\n",
    "\n",
    "# Score meals\n",
    "print(\"\\n=== Meal Compatibility Scores ===\")\n",
    "print(analyzer.score_meals())\n",
    "\n",
    "# Show top 2 most compatible meals\n",
    "print(\"\\n=== Most Compatible Meals ===\")\n",
    "print(analyzer.get_most_compatible_meals(top_n=2))\n",
    "\n",
    "# Universally compatible\n",
    "print(\"\\n=== Universally Compatible Meals ===\")\n",
    "print(analyzer.get_universally_compatible_meals())\n",
    "\n"
   ]
  },
  {
   "cell_type": "code",
   "execution_count": null,
   "id": "6f727961",
   "metadata": {},
   "outputs": [],
   "source": [
    "for tag in tag_registry.all_tags():\n",
    "    print(f\"{tag}: excludes {tag_registry.get_tag(tag).excluded}\")\n"
   ]
  },
  {
   "cell_type": "code",
   "execution_count": null,
   "id": "3da06f79",
   "metadata": {},
   "outputs": [],
   "source": [
    "# Custom restriction: VEG + DAIRY\n",
    "r = DietaryRestriction({\"MEAT\", \"FISH\", \"SHELLFISH\", \"DAIRY\"})\n",
    "print(tag_registry.generate_tags(r))  # → ['VEGETARIAN']"
   ]
  },
  {
   "cell_type": "code",
   "execution_count": null,
   "id": "3044fd34",
   "metadata": {},
   "outputs": [],
   "source": [
    "# Define person with custom restriction\n",
    "combo_restriction = DietaryRestriction({\"MEAT\", \"FISH\", \"SHELLFISH\", \"NUTS\"})\n",
    "person = Person(\"Sam\", restriction=combo_restriction)\n",
    "\n",
    "print(person.label())  # Sam [VEGETARIAN | NUT-FREE]"
   ]
  },
  {
   "cell_type": "code",
   "execution_count": null,
   "id": "6548e7e0",
   "metadata": {},
   "outputs": [],
   "source": [
    "print(tag_registry._tag_map)"
   ]
  },
  {
   "cell_type": "code",
   "execution_count": null,
   "id": "c8e8dcbb",
   "metadata": {},
   "outputs": [],
   "source": [
    "print(tag_registry.get_tags_by_category(\"ethical\"))     # ['VEGAN', 'VEGETARIAN', 'PESCATARIAN']\n",
    "print(tag_registry.get_tags_by_category(\"allergen\"))    # ['NUT-FREE', 'DAIRY-FREE']"
   ]
  }
 ],
 "metadata": {
  "kernelspec": {
   "display_name": ".venv",
   "language": "python",
   "name": "python3"
  },
  "language_info": {
   "codemirror_mode": {
    "name": "ipython",
    "version": 3
   },
   "file_extension": ".py",
   "mimetype": "text/x-python",
   "name": "python",
   "nbconvert_exporter": "python",
   "pygments_lexer": "ipython3",
   "version": "3.10.12"
  }
 },
 "nbformat": 4,
 "nbformat_minor": 5
}
