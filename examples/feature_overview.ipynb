{
 "cells": [
  {
   "cell_type": "markdown",
   "id": "ef4bb0c0",
   "metadata": {},
   "source": [
    "# Dietary Model Examples\n",
    "\n",
    "This notebook demonstrates how to use the dietary classification library to:\n",
    "\n",
    "- Define a hierarchy of food categories\n",
    "- Register and classify dietary restrictions using canonical tags\n",
    "- Create ingredients and meals\n",
    "- Define people with tagged or custom restrictions\n",
    "- Analyze meal compatibility\n",
    "- Score and filter meals\n",
    "- Explore tags by category"
   ]
  },
  {
   "cell_type": "code",
   "execution_count": null,
   "id": "a23a67e5",
   "metadata": {},
   "outputs": [],
   "source": [
    "from mealplanner.dietary_model import *"
   ]
  },
  {
   "cell_type": "markdown",
   "id": "5640a946",
   "metadata": {},
   "source": [
    "## 1. Define Food Categories\n",
    "\n",
    "Food categories support hierarchy. For example, CHEESE is a type of DAIRY, which is a type of ANIMAL_PRODUCTS.\n",
    "These relationships allow general restrictions (like \"no ANIMAL_PRODUCTS\") to apply to all children."
   ]
  },
  {
   "cell_type": "code",
   "execution_count": null,
   "id": "5329dc4b",
   "metadata": {},
   "outputs": [],
   "source": [
    "FoodCategory.reset()\n",
    "FoodCategory.define(\"ANIMAL_PRODUCTS\")\n",
    "FoodCategory.define(\"MEAT\", {\"ANIMAL_PRODUCTS\"})\n",
    "FoodCategory.define(\"DAIRY\", {\"ANIMAL_PRODUCTS\"})\n",
    "FoodCategory.define(\"FISH\", {\"ANIMAL_PRODUCTS\"})\n",
    "FoodCategory.define(\"SHELLFISH\", {\"ANIMAL_PRODUCTS\"})\n",
    "FoodCategory.define(\"NUTS\")\n",
    "FoodCategory.define(\"CHEESE\", {\"DAIRY\"})\n",
    "FoodCategory.define(\"SALMON\", {\"FISH\"})\n",
    "FoodCategory.define(\"CHICKEN\", {\"MEAT\"})\n",
    "FoodCategory.define(\"ALMOND\", {\"NUTS\"})\n",
    "FoodCategory.define(\"TOFU\")"
   ]
  },
  {
   "cell_type": "markdown",
   "id": "879b2525",
   "metadata": {},
   "source": [
    "## 2. Register Canonical Tags\n",
    "\n",
    "Tags are registered with associated restrictions and optional category labels (e.g. \"ethical\", \"allergen\").\n",
    "This allows for flexible tagging of people and meals."
   ]
  },
  {
   "cell_type": "code",
   "execution_count": null,
   "id": "a8beef2b",
   "metadata": {},
   "outputs": [],
   "source": [
    "\n",
    "tag_registry._tag_map.clear()\n",
    "tag_registry.register_tag(\"VEGAN\", DietaryRestriction({\"ANIMAL_PRODUCTS\"}), category=\"ethical\")\n",
    "tag_registry.register_tag(\"VEGETARIAN\", DietaryRestriction({\"MEAT\", \"FISH\", \"SHELLFISH\"}), category=\"ethical\")\n",
    "tag_registry.register_tag(\"PESCATARIAN\", DietaryRestriction({\"MEAT\"}), category=\"ethical\")\n",
    "tag_registry.register_tag(\"NUT-FREE\", DietaryRestriction({\"NUTS\"}), category=\"allergen\")\n",
    "tag_registry.register_tag(\"DAIRY-FREE\", DietaryRestriction({\"DAIRY\"}), category=\"allergen\")\n"
   ]
  },
  {
   "cell_type": "markdown",
   "id": "241fe785",
   "metadata": {},
   "source": [
    "## 3. Create Ingredients and Meals\n",
    "\n",
    "A meal is a list of ingredients. Each ingredient has a category, caloric value, and optional allergens."
   ]
  },
  {
   "cell_type": "code",
   "execution_count": null,
   "id": "ca47fb15",
   "metadata": {},
   "outputs": [],
   "source": [
    "\n",
    "cheese = Ingredient(\"Aged Cheddar\", FoodCategory.get(\"CHEESE\"), 100)\n",
    "salmon = Ingredient(\"Wild Salmon\", FoodCategory.get(\"SALMON\"), 180)\n",
    "almond = Ingredient(\"Toasted Almonds\", FoodCategory.get(\"ALMOND\"), 150)\n",
    "tofu = Ingredient(\"Fried Tofu\", FoodCategory.get(\"TOFU\"), 130)\n",
    "\n",
    "meals = [\n",
    "    Meal(\"Cheese & Almond Plate\", [cheese, almond]),\n",
    "    Meal(\"Salmon Bowl\", [salmon]),\n",
    "    Meal(\"Tofu Delight\", [tofu])\n",
    "]\n"
   ]
  },
  {
   "cell_type": "markdown",
   "id": "4997c45f",
   "metadata": {},
   "source": [
    "## 4. Define People and Restrictions\n",
    "\n",
    "You can define a person either by a known tag (like \"VEGAN\") or by a custom DietaryRestriction."
   ]
  },
  {
   "cell_type": "code",
   "execution_count": null,
   "id": "59eef6a4",
   "metadata": {},
   "outputs": [],
   "source": [
    "\n",
    "people = [\n",
    "    Person(\"Alex\", tag=\"VEGAN\"),\n",
    "    Person(\"Jamie\", tag=\"PESCATARIAN\"),\n",
    "    Person(\"Sam\", tag=\"NUT-FREE\"),\n",
    "    Person(\"Taylor\", restriction=DietaryRestriction({\"DAIRY\", \"FISH\"}))\n",
    "]\n",
    "\n",
    "print(\"\\n=== People and their tags ===\")\n",
    "for p in people:\n",
    "    print(\"-\", p.label())\n"
   ]
  },
  {
   "cell_type": "markdown",
   "id": "347cc581",
   "metadata": {},
   "source": [
    "## 5. Analyze Meal Compatibility\n",
    "\n",
    "Use `MealCompatibilityAnalyzer` to evaluate which meals each person can eat, and to generate scores or universal options."
   ]
  },
  {
   "cell_type": "code",
   "execution_count": null,
   "id": "22337559",
   "metadata": {},
   "outputs": [],
   "source": [
    "\n",
    "analyzer = MealCompatibilityAnalyzer(meals, people)\n",
    "print(\"\\n=== Compatibility Matrix (Markdown) ===\")\n",
    "analyzer.print_matrix(mode=\"markdown\")\n",
    "\n",
    "print(\"\\n=== Most Compatible Meals ===\")\n",
    "print(analyzer.get_most_compatible_meals(top_n=2))\n",
    "\n",
    "print(\"\\n=== Universally Compatible Meals ===\")\n",
    "print(analyzer.get_universally_compatible_meals())\n"
   ]
  },
  {
   "cell_type": "markdown",
   "id": "aa9e19ad",
   "metadata": {},
   "source": [
    "## 6. Explore Tags by Category\n",
    "\n",
    "Tags can be grouped by category for filtering or display."
   ]
  },
  {
   "cell_type": "code",
   "execution_count": null,
   "id": "3dcbe569",
   "metadata": {},
   "outputs": [],
   "source": [
    "\n",
    "print(\"\\n=== Tags by Category ===\")\n",
    "print(\"Ethical:\", tag_registry.get_tags_by_category(\"ethical\"))\n",
    "print(\"Allergen:\", tag_registry.get_tags_by_category(\"allergen\"))"
   ]
  }
 ],
 "metadata": {
  "kernelspec": {
   "display_name": ".venv",
   "language": "python",
   "name": "python3"
  },
  "language_info": {
   "codemirror_mode": {
    "name": "ipython",
    "version": 3
   },
   "file_extension": ".py",
   "mimetype": "text/x-python",
   "name": "python",
   "nbconvert_exporter": "python",
   "pygments_lexer": "ipython3",
   "version": "3.10.12"
  }
 },
 "nbformat": 4,
 "nbformat_minor": 5
}
