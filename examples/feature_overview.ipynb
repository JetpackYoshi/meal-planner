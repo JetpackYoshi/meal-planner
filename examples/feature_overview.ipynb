{
 "cells": [
  {
   "cell_type": "markdown",
   "id": "ef4bb0c0",
   "metadata": {},
   "source": [
    "# Dietary Model Examples\n",
    "\n",
    "This notebook demonstrates how to use the dietary classification library to:\n",
    "\n",
    "- Define a hierarchy of food categories\n",
    "- Register and classify dietary restrictions using canonical tags\n",
    "- Create ingredients and meals\n",
    "- Define people with tagged or custom restrictions\n",
    "- Analyze meal compatibility\n",
    "- Score and filter meals\n",
    "- Explore tags by category"
   ]
  },
  {
   "cell_type": "markdown",
   "id": "fc8fdb4d",
   "metadata": {},
   "source": [
    "First, let's import the dietary_model library, along with a few extras that we'll use for visualization later on."
   ]
  },
  {
   "cell_type": "code",
   "execution_count": 1,
   "id": "a23a67e5",
   "metadata": {},
   "outputs": [],
   "source": [
    "# from mealplanner.dietary_model import *\n",
    "# from mealplanner.natural_language_parsing import *\n",
    "# from mealplanner.defaults import *\n",
    "# from mealplanner.guest_list_analyzer import *\n",
    "\n",
    "import matplotlib.pyplot as plt\n",
    "import seaborn as sns\n",
    "import pandas as pd"
   ]
  },
  {
   "cell_type": "markdown",
   "id": "5640a946",
   "metadata": {},
   "source": [
    "## 1. Define Food Categories and Tags"
   ]
  },
  {
   "cell_type": "markdown",
   "id": "695a5578",
   "metadata": {},
   "source": [
    "### Food Categories\n",
    "\n",
    "Food categories support hierarchy. For example, CHEESE is a type of DAIRY, which is a type of ANIMAL_PRODUCTS.\n",
    "These relationships allow general restrictions (like \"no ANIMAL_PRODUCTS\") to apply to all children.\n",
    "\n",
    "To get the best use out of this library, hierarchial configuration is **strongly** advised.\n",
    "\n",
    "This library is designed to work throughout cultures, traditions, and culinary doctines. While a default set of food categories is provided, users are encouraged to add/define categories and tags as they see fit. An example of that is shown here:"
   ]
  },
  {
   "cell_type": "code",
   "execution_count": 2,
   "id": "c66711fd",
   "metadata": {},
   "outputs": [],
   "source": [
    "from mealplanner.dietary_model import FoodCategory"
   ]
  },
  {
   "cell_type": "code",
   "execution_count": 3,
   "id": "5329dc4b",
   "metadata": {},
   "outputs": [
    {
     "data": {
      "text/plain": [
       "FoodCategory(TOFU)"
      ]
     },
     "execution_count": 3,
     "metadata": {},
     "output_type": "execute_result"
    }
   ],
   "source": [
    "FoodCategory.reset()\n",
    "FoodCategory.define(\"ANIMAL_PRODUCTS\")\n",
    "FoodCategory.define(\"MEAT\", {\"ANIMAL_PRODUCTS\"})\n",
    "FoodCategory.define(\"DAIRY\", {\"ANIMAL_PRODUCTS\"})\n",
    "FoodCategory.define(\"FISH\", {\"ANIMAL_PRODUCTS\"})\n",
    "FoodCategory.define(\"SHELLFISH\", {\"ANIMAL_PRODUCTS\"})\n",
    "FoodCategory.define(\"NUTS\")\n",
    "FoodCategory.define(\"CHEESE\", {\"DAIRY\"})\n",
    "FoodCategory.define(\"SALMON\", {\"FISH\"})\n",
    "FoodCategory.define(\"CHICKEN\", {\"MEAT\"})\n",
    "FoodCategory.define(\"ALMOND\", {\"NUTS\"})\n",
    "FoodCategory.define(\"TOFU\")"
   ]
  },
  {
   "cell_type": "markdown",
   "id": "879b2525",
   "metadata": {},
   "source": [
    "### Register Canonical Tags\n",
    "\n",
    "Tags are registered with associated restrictions and optional category labels (e.g. \"ethical\", \"allergen\").\n",
    "This allows for flexible tagging of people and meals."
   ]
  },
  {
   "cell_type": "code",
   "execution_count": 4,
   "id": "f16b58da",
   "metadata": {},
   "outputs": [],
   "source": [
    "from mealplanner.dietary_model import tag_registry, DietaryRestriction"
   ]
  },
  {
   "cell_type": "code",
   "execution_count": 5,
   "id": "a8beef2b",
   "metadata": {},
   "outputs": [],
   "source": [
    "tag_registry.clear()\n",
    "tag_registry.register_tag(\"VEGAN\", DietaryRestriction({\"ANIMAL_PRODUCTS\"}), category=\"ethical\")\n",
    "tag_registry.register_tag(\"VEGETARIAN\", DietaryRestriction({\"MEAT\", \"FISH\", \"SHELLFISH\"}), category=\"ethical\")\n",
    "tag_registry.register_tag(\"PESCATARIAN\", DietaryRestriction({\"MEAT\"}), category=\"ethical\")\n",
    "tag_registry.register_tag(\"NUT-FREE\", DietaryRestriction({\"NUTS\"}), category=\"allergen\")\n",
    "tag_registry.register_tag(\"DAIRY-FREE\", DietaryRestriction({\"DAIRY\"}), category=\"allergen\")"
   ]
  },
  {
   "cell_type": "markdown",
   "id": "44acae36",
   "metadata": {},
   "source": [
    "### Default Setup\n",
    "\n",
    "However, for all examples and tests in this library, we will simply be using the defaults."
   ]
  },
  {
   "cell_type": "code",
   "execution_count": 6,
   "id": "126cdf12",
   "metadata": {},
   "outputs": [],
   "source": [
    "from mealplanner.defaults import setup_defaults\n",
    "\n",
    "# Setup default food categories and tags\n",
    "setup_defaults()"
   ]
  },
  {
   "cell_type": "markdown",
   "id": "ba20ce6b",
   "metadata": {},
   "source": [
    "The `FoodCategory` class itself stores this defined registry of categories globally. \n",
    "\n",
    "The `FoodCategory.all()` function displays all registered food categories. Let's take a look at all of the current categories and tags available"
   ]
  },
  {
   "cell_type": "code",
   "execution_count": 7,
   "id": "e65cc387",
   "metadata": {},
   "outputs": [
    {
     "name": "stdout",
     "output_type": "stream",
     "text": [
      "=== Default Food Categories ===\n",
      "- ANIMAL_PRODUCTS\n",
      "- PLANT_BASED\n",
      "- MEAT\n",
      "- DAIRY\n",
      "- EGGS\n",
      "- FISH\n",
      "- SHELLFISH\n",
      "- BEEF\n",
      "- CHICKEN\n",
      "- PORK\n",
      "- CHEESE\n",
      "- MILK\n",
      "- YOGURT\n",
      "- SALMON\n",
      "- TUNA\n",
      "- NUTS\n",
      "- GRAINS\n",
      "- LEGUMES\n",
      "- VEGETABLES\n",
      "- FRUITS\n",
      "- ALMOND\n",
      "- PEANUT\n",
      "- CASHEW\n",
      "- WHEAT\n",
      "- RICE\n",
      "- OATS\n",
      "- GLUTEN\n",
      "- SOY\n",
      "- TOFU\n",
      "- CUISINE\n",
      "- ASIAN\n",
      "- JAPANESE\n",
      "- CHINESE\n",
      "- ITALIAN\n",
      "- MEXICAN\n",
      "\n",
      "=== Default Dietary Tags ===\n",
      "- VEGAN\n",
      "- VEGETARIAN\n",
      "- PESCATARIAN\n",
      "- MEAT-FREE\n",
      "- NUT-FREE\n",
      "- DAIRY-FREE\n",
      "- EGG-FREE\n",
      "- SHELLFISH-FREE\n",
      "- FISH-FREE\n",
      "- BEEF-FREE\n",
      "- GLUTEN-FREE\n",
      "- SOY-FREE\n"
     ]
    }
   ],
   "source": [
    "# Show all defined categories\n",
    "print(\"=== Default Food Categories ===\")\n",
    "for cat in FoodCategory.all():\n",
    "    print(f\"- {cat.name}\")\n",
    "\n",
    "# Show all defined tags\n",
    "print(\"\\n=== Default Dietary Tags ===\")\n",
    "for tag in tag_registry.all_tags():\n",
    "    print(f\"- {tag}\")"
   ]
  },
  {
   "cell_type": "markdown",
   "id": "241fe785",
   "metadata": {},
   "source": [
    "## 3. Create Ingredients and Meals\n",
    "\n",
    "A meal is a list of ingredients. Each ingredient has a category, caloric value, and optional allergens."
   ]
  },
  {
   "cell_type": "code",
   "execution_count": 8,
   "id": "f256b478",
   "metadata": {},
   "outputs": [],
   "source": [
    "from mealplanner.dietary_model import Ingredient, Meal"
   ]
  },
  {
   "cell_type": "code",
   "execution_count": 9,
   "id": "ca47fb15",
   "metadata": {},
   "outputs": [],
   "source": [
    "cheese = Ingredient(\"Aged Cheddar\", FoodCategory.get(\"CHEESE\"), 100)\n",
    "salmon = Ingredient(\"Wild Salmon\", FoodCategory.get(\"SALMON\"), 180)\n",
    "almond = Ingredient(\"Toasted Almonds\", FoodCategory.get(\"ALMOND\"), 150)\n",
    "tofu = Ingredient(\"Fried Tofu\", FoodCategory.get(\"TOFU\"), 130)\n",
    "\n",
    "meals = [\n",
    "    Meal(\"Cheese & Almond Plate\", [cheese, almond]),\n",
    "    Meal(\"Salmon Bowl\", [salmon]),\n",
    "    Meal(\"Tofu Delight\", [tofu])\n",
    "]\n"
   ]
  },
  {
   "cell_type": "markdown",
   "id": "4997c45f",
   "metadata": {},
   "source": [
    "## 4. Define People and Restrictions\n",
    "\n",
    "You can define a person either by a known tag (like \"VEGAN\") or by a custom DietaryRestriction."
   ]
  },
  {
   "cell_type": "code",
   "execution_count": 10,
   "id": "81d5812e",
   "metadata": {},
   "outputs": [],
   "source": [
    "from mealplanner.dietary_model import Person"
   ]
  },
  {
   "cell_type": "code",
   "execution_count": 11,
   "id": "59eef6a4",
   "metadata": {},
   "outputs": [
    {
     "name": "stdout",
     "output_type": "stream",
     "text": [
      "\n",
      "=== People and their tags ===\n",
      "- DietaryRestriction(Excludes: ['ANIMAL_PRODUCTS'])\n",
      "- DietaryRestriction(Excludes: ['MEAT'])\n",
      "- DietaryRestriction(Excludes: ['NUTS'])\n",
      "- DietaryRestriction(Excludes: ['DAIRY', 'FISH'])\n"
     ]
    }
   ],
   "source": [
    "people = [\n",
    "    Person(\"Alex\", tag=\"VEGAN\"),\n",
    "    Person(\"Jamie\", tag=\"PESCATARIAN\"),\n",
    "    Person(\"Sam\", tag=\"NUT-FREE\"),\n",
    "    Person(\"Taylor\", restriction=DietaryRestriction({\"DAIRY\", \"FISH\"}))\n",
    "]\n",
    "\n",
    "print(\"\\n=== People and their tags ===\")\n",
    "for p in people:\n",
    "    print(\"-\", p.label())\n"
   ]
  },
  {
   "cell_type": "markdown",
   "id": "347cc581",
   "metadata": {},
   "source": [
    "## 5. Analyze Meal Compatibility\n",
    "\n",
    "Use `MealCompatibilityAnalyzer` to evaluate which meals each person can eat, and to generate scores or universal options."
   ]
  },
  {
   "cell_type": "code",
   "execution_count": 12,
   "id": "c5dd5ba6",
   "metadata": {},
   "outputs": [],
   "source": [
    "from mealplanner.meal_compatibility_analyzer import MealCompatibilityAnalyzer"
   ]
  },
  {
   "cell_type": "code",
   "execution_count": 13,
   "id": "22337559",
   "metadata": {},
   "outputs": [
    {
     "name": "stdout",
     "output_type": "stream",
     "text": [
      "\n",
      "=== Compatibility Matrix ===\n"
     ]
    },
    {
     "data": {
      "text/html": [
       "<div>\n",
       "<style scoped>\n",
       "    .dataframe tbody tr th:only-of-type {\n",
       "        vertical-align: middle;\n",
       "    }\n",
       "\n",
       "    .dataframe tbody tr th {\n",
       "        vertical-align: top;\n",
       "    }\n",
       "\n",
       "    .dataframe thead th {\n",
       "        text-align: right;\n",
       "    }\n",
       "</style>\n",
       "<table border=\"1\" class=\"dataframe\">\n",
       "  <thead>\n",
       "    <tr style=\"text-align: right;\">\n",
       "      <th></th>\n",
       "      <th>Meal</th>\n",
       "      <th>Alex</th>\n",
       "      <th>Jamie</th>\n",
       "      <th>Sam</th>\n",
       "      <th>Taylor</th>\n",
       "    </tr>\n",
       "  </thead>\n",
       "  <tbody>\n",
       "    <tr>\n",
       "      <th>0</th>\n",
       "      <td>Cheese &amp; Almond Plate</td>\n",
       "      <td>❌</td>\n",
       "      <td>✅</td>\n",
       "      <td>❌</td>\n",
       "      <td>❌</td>\n",
       "    </tr>\n",
       "    <tr>\n",
       "      <th>1</th>\n",
       "      <td>Salmon Bowl</td>\n",
       "      <td>❌</td>\n",
       "      <td>✅</td>\n",
       "      <td>✅</td>\n",
       "      <td>❌</td>\n",
       "    </tr>\n",
       "    <tr>\n",
       "      <th>2</th>\n",
       "      <td>Tofu Delight</td>\n",
       "      <td>✅</td>\n",
       "      <td>✅</td>\n",
       "      <td>✅</td>\n",
       "      <td>✅</td>\n",
       "    </tr>\n",
       "  </tbody>\n",
       "</table>\n",
       "</div>"
      ],
      "text/plain": [
       "                    Meal Alex Jamie Sam Taylor\n",
       "0  Cheese & Almond Plate    ❌     ✅   ❌      ❌\n",
       "1            Salmon Bowl    ❌     ✅   ✅      ❌\n",
       "2           Tofu Delight    ✅     ✅   ✅      ✅"
      ]
     },
     "execution_count": 13,
     "metadata": {},
     "output_type": "execute_result"
    }
   ],
   "source": [
    "analyzer = MealCompatibilityAnalyzer(meals, people)\n",
    "print(\"\\n=== Compatibility Matrix ===\")\n",
    "analyzer.get_compatibility_matrix(use_emojis=True)"
   ]
  },
  {
   "cell_type": "code",
   "execution_count": 14,
   "id": "b45a3e84",
   "metadata": {},
   "outputs": [
    {
     "name": "stdout",
     "output_type": "stream",
     "text": [
      "\n",
      "=== Most Compatible Meals ===\n",
      "           Meal  Compatibility Score\n",
      "2  Tofu Delight                  1.0\n",
      "1   Salmon Bowl                  0.5\n",
      "\n",
      "=== Universally Compatible Meals ===\n",
      "           Meal  Compatibility Score\n",
      "0  Tofu Delight                  1.0\n"
     ]
    }
   ],
   "source": [
    "print(\"\\n=== Most Compatible Meals ===\")\n",
    "print(analyzer.get_most_compatible_meals(top_n=2))\n",
    "\n",
    "print(\"\\n=== Universally Compatible Meals ===\")\n",
    "print(analyzer.get_universally_compatible_meals())"
   ]
  },
  {
   "cell_type": "markdown",
   "id": "19db77d1",
   "metadata": {},
   "source": [
    "### 🔍 Visualize Compatibility Scores"
   ]
  },
  {
   "cell_type": "code",
   "execution_count": 15,
   "id": "f6ea5ed3",
   "metadata": {},
   "outputs": [
    {
     "data": {
      "image/png": "[encoded data removed]",
      "text/plain": [
       "<Figure size 640x480 with 1 Axes>"
      ]
     },
     "metadata": {},
     "output_type": "display_data"
    }
   ],
   "source": [
    "scores = analyzer.score_meals()\n",
    "scores.plot(kind='barh', color='skyblue', edgecolor='black')\n",
    "plt.title(\"Number of People Compatible with Each Meal\")\n",
    "plt.xlabel(\"Compatible People\")\n",
    "plt.ylabel(\"Meal\")\n",
    "plt.tight_layout()\n",
    "plt.show()"
   ]
  },
  {
   "cell_type": "markdown",
   "id": "dabce0aa",
   "metadata": {},
   "source": [
    "### 🔍 Heatmap of Compatibility Matrix"
   ]
  },
  {
   "cell_type": "code",
   "execution_count": 16,
   "id": "571c06c6",
   "metadata": {},
   "outputs": [
    {
     "data": {
      "image/png": "[encoded data removed]",
      "text/plain": [
       "<Figure size 640x480 with 1 Axes>"
      ]
     },
     "metadata": {},
     "output_type": "display_data"
    }
   ],
   "source": [
    "matrix = analyzer.get_compatibility_matrix()\n",
    "# Convert boolean values to integers, excluding the Meal column\n",
    "matrix_numeric = matrix.drop('Meal', axis=1).astype(int)\n",
    "matrix_numeric.index = matrix['Meal']\n",
    "\n",
    "sns.heatmap(matrix_numeric, annot=True, cmap=\"YlGnBu\", cbar=False)\n",
    "plt.title(\"Meal Compatibility Heatmap (1 = Compatible)\")\n",
    "plt.xticks(rotation=45, ha='right')\n",
    "plt.tight_layout()\n",
    "plt.show()"
   ]
  },
  {
   "cell_type": "markdown",
   "id": "aa9e19ad",
   "metadata": {},
   "source": [
    "## 6. Explore Tags by Category\n",
    "\n",
    "Tags can be grouped by category for filtering or display."
   ]
  },
  {
   "cell_type": "code",
   "execution_count": 17,
   "id": "3dcbe569",
   "metadata": {},
   "outputs": [
    {
     "name": "stdout",
     "output_type": "stream",
     "text": [
      "\n",
      "=== Tags by Category ===\n",
      "Ethical: ['VEGAN', 'VEGETARIAN', 'PESCATARIAN', 'MEAT-FREE']\n",
      "Allergen: ['NUT-FREE', 'DAIRY-FREE', 'EGG-FREE', 'SHELLFISH-FREE', 'FISH-FREE', 'BEEF-FREE', 'GLUTEN-FREE', 'SOY-FREE']\n"
     ]
    }
   ],
   "source": [
    "\n",
    "print(\"\\n=== Tags by Category ===\")\n",
    "print(\"Ethical:\", tag_registry.get_tags_by_category(\"ethical\"))\n",
    "print(\"Allergen:\", tag_registry.get_tags_by_category(\"allergen\"))"
   ]
  },
  {
   "cell_type": "markdown",
   "id": "79f89adb",
   "metadata": {},
   "source": [
    "## 7. Natural Language Parsing\n",
    "\n",
    "This library also allows for the parsing of natural descriptor strings for generating DietaryRestriction objects. It also uses fuzzy logic to handle misspellings (useful if gathering information from forms)"
   ]
  },
  {
   "cell_type": "code",
   "execution_count": 18,
   "id": "e6b4a4e5",
   "metadata": {},
   "outputs": [],
   "source": [
    "from mealplanner.natural_language_parsing import parse_nl_restriction"
   ]
  },
  {
   "cell_type": "code",
   "execution_count": 19,
   "id": "f4e1a2ae",
   "metadata": {},
   "outputs": [
    {
     "name": "stdout",
     "output_type": "stream",
     "text": [
      "\n",
      "=== Parsing Results ===\n",
      "\n",
      "Input: Vegetarian and dairy free\n",
      "Parsed: DietaryRestriction(Excludes: ['DAIRY', 'FISH', 'MEAT', 'SHELLFISH'])\n",
      "\n",
      "Input: No restrictions\n",
      "Parsed: None\n",
      "\n",
      "Input: Lactose intollerant\n",
      "Parsed: DietaryRestriction(Excludes: ['DAIRY'])\n",
      "\n",
      "Input: vegan (no milk, egg, meat)\n",
      "Parsed: DietaryRestriction(Excludes: ['ANIMAL_PRODUCTS', 'DAIRY', 'EGGS', 'MEAT'])\n",
      "\n",
      "Input: Shellfish and peenut allergy\n",
      "Parsed: DietaryRestriction(Excludes: ['NUTS', 'SHELLFISH'])\n",
      "\n",
      "Input: I can eat everything\n",
      "Parsed: None\n"
     ]
    }
   ],
   "source": [
    "samples = [\n",
    "    \"Vegetarian and dairy free\",\n",
    "    \"No restrictions\",\n",
    "    \"Lactose intollerant\",\n",
    "    \"vegan (no milk, egg, meat)\",\n",
    "    \"Shellfish and peenut allergy\",\n",
    "    \"I can eat everything\"\n",
    "]\n",
    "\n",
    "parsed = [parse_nl_restriction(s, return_debug=True) for s in samples]\n",
    "\n",
    "# Display results\n",
    "print(\"\\n=== Parsing Results ===\")\n",
    "for text in samples:\n",
    "    restriction = parse_nl_restriction(text)\n",
    "    print(f\"\\nInput: {text}\")\n",
    "    print(f\"Parsed: {restriction}\")"
   ]
  },
  {
   "cell_type": "markdown",
   "id": "388a9361",
   "metadata": {},
   "source": [
    "## Guest List Analysis\n",
    "\n",
    "Perhaps the most common use-case of this library is for event-planning, thus one of the most exciting features is the ability to take a simple table of RSVP information and turn that into objects we can easily work with and analyze!"
   ]
  },
  {
   "cell_type": "code",
   "execution_count": 20,
   "id": "081032db",
   "metadata": {},
   "outputs": [],
   "source": [
    "from mealplanner.guest_list_analyzer import GuestListAnalyzer"
   ]
  },
  {
   "cell_type": "code",
   "execution_count": 21,
   "id": "4dd840b1",
   "metadata": {},
   "outputs": [
    {
     "name": "stdout",
     "output_type": "stream",
     "text": [
      "\n",
      "=== Dietary Restriction Summary ===\n",
      "DietaryRestriction(Excludes: ['ANIMAL_PRODUCTS']): 1 people\n",
      "DietaryRestriction(Excludes: ['FISH', 'MEAT', 'SHELLFISH']): 1 people\n",
      "DietaryRestriction(Excludes: ['NUTS']): 1 people\n",
      "DietaryRestriction(Excludes: ['SHELLFISH']): 1 people\n",
      "No restrictions: 1 people\n",
      "\n",
      "=== Canonical Tag Summary ===\n",
      "SHELLFISH-FREE: 3 people\n",
      "VEGETARIAN: 2 people\n",
      "DAIRY-FREE: 1 people\n",
      "EGG-FREE: 1 people\n",
      "FISH-FREE: 1 people\n",
      "MEAT-FREE: 1 people\n",
      "NO-RESTRICTIONS: 1 people\n",
      "NUT-FREE: 1 people\n",
      "VEGAN: 1 people\n"
     ]
    }
   ],
   "source": [
    "# Example guest list\n",
    "guest_data = {\n",
    "    'Name': ['Alice', 'Bob', 'Charlie', 'Diana', 'Eve'],\n",
    "    'Dietary Restriction': [\n",
    "        'Vegan',\n",
    "        'Vegetarian',\n",
    "        'No nuts',\n",
    "        'No shellfish',\n",
    "        'No restrictions'\n",
    "    ]\n",
    "}\n",
    "\n",
    "# Create analyzer\n",
    "analyzer = GuestListAnalyzer(pd.DataFrame(guest_data))\n",
    "\n",
    "# Show restriction summary\n",
    "print(\"\\n=== Dietary Restriction Summary ===\")\n",
    "summary = analyzer.get_restriction_summary()\n",
    "for restriction, count in sorted(summary.items(), key=lambda x: (-x[1], x[0])):\n",
    "    print(f\"{restriction}: {count} people\")\n",
    "\n",
    "# Show tag summary\n",
    "print(\"\\n=== Canonical Tag Summary ===\")\n",
    "tag_summary = analyzer.get_tag_summary()\n",
    "for tag, count in sorted(tag_summary.items(), key=lambda x: (-x[1], x[0])):\n",
    "    print(f\"{tag}: {count} people\")"
   ]
  },
  {
   "cell_type": "code",
   "execution_count": 22,
   "id": "4421be41",
   "metadata": {},
   "outputs": [
    {
     "name": "stdout",
     "output_type": "stream",
     "text": [
      "\n",
      "=== Restriction Matrix (Relevant Categories) ===\n"
     ]
    },
    {
     "data": {
      "text/html": [
       "<div>\n",
       "<style scoped>\n",
       "    .dataframe tbody tr th:only-of-type {\n",
       "        vertical-align: middle;\n",
       "    }\n",
       "\n",
       "    .dataframe tbody tr th {\n",
       "        vertical-align: top;\n",
       "    }\n",
       "\n",
       "    .dataframe thead th {\n",
       "        text-align: right;\n",
       "    }\n",
       "</style>\n",
       "<table border=\"1\" class=\"dataframe\">\n",
       "  <thead>\n",
       "    <tr style=\"text-align: right;\">\n",
       "      <th></th>\n",
       "      <th>Name</th>\n",
       "      <th>ANIMAL_PRODUCTS</th>\n",
       "      <th>FISH</th>\n",
       "      <th>MEAT</th>\n",
       "      <th>NUTS</th>\n",
       "      <th>PLANT_BASED</th>\n",
       "      <th>SHELLFISH</th>\n",
       "    </tr>\n",
       "  </thead>\n",
       "  <tbody>\n",
       "    <tr>\n",
       "      <th>0</th>\n",
       "      <td>Alice</td>\n",
       "      <td>❌</td>\n",
       "      <td>❌</td>\n",
       "      <td>❌</td>\n",
       "      <td>✅</td>\n",
       "      <td>✅</td>\n",
       "      <td>❌</td>\n",
       "    </tr>\n",
       "    <tr>\n",
       "      <th>1</th>\n",
       "      <td>Bob</td>\n",
       "      <td>✅</td>\n",
       "      <td>❌</td>\n",
       "      <td>❌</td>\n",
       "      <td>✅</td>\n",
       "      <td>✅</td>\n",
       "      <td>❌</td>\n",
       "    </tr>\n",
       "    <tr>\n",
       "      <th>2</th>\n",
       "      <td>Charlie</td>\n",
       "      <td>✅</td>\n",
       "      <td>✅</td>\n",
       "      <td>✅</td>\n",
       "      <td>❌</td>\n",
       "      <td>✅</td>\n",
       "      <td>✅</td>\n",
       "    </tr>\n",
       "    <tr>\n",
       "      <th>3</th>\n",
       "      <td>Diana</td>\n",
       "      <td>✅</td>\n",
       "      <td>✅</td>\n",
       "      <td>✅</td>\n",
       "      <td>✅</td>\n",
       "      <td>✅</td>\n",
       "      <td>❌</td>\n",
       "    </tr>\n",
       "    <tr>\n",
       "      <th>4</th>\n",
       "      <td>Eve</td>\n",
       "      <td>✅</td>\n",
       "      <td>✅</td>\n",
       "      <td>✅</td>\n",
       "      <td>✅</td>\n",
       "      <td>✅</td>\n",
       "      <td>✅</td>\n",
       "    </tr>\n",
       "  </tbody>\n",
       "</table>\n",
       "</div>"
      ],
      "text/plain": [
       "      Name ANIMAL_PRODUCTS FISH MEAT NUTS PLANT_BASED SHELLFISH\n",
       "0    Alice               ❌    ❌    ❌    ✅           ✅         ❌\n",
       "1      Bob               ✅    ❌    ❌    ✅           ✅         ❌\n",
       "2  Charlie               ✅    ✅    ✅    ❌           ✅         ✅\n",
       "3    Diana               ✅    ✅    ✅    ✅           ✅         ❌\n",
       "4      Eve               ✅    ✅    ✅    ✅           ✅         ✅"
      ]
     },
     "execution_count": 22,
     "metadata": {},
     "output_type": "execute_result"
    }
   ],
   "source": [
    "# Show restriction matrix with relevant categories\n",
    "print(\"\\n=== Restriction Matrix (Relevant Categories) ===\")\n",
    "analyzer.get_restriction_matrix(use_emojis=True)"
   ]
  },
  {
   "cell_type": "code",
   "execution_count": 23,
   "id": "51e3e492",
   "metadata": {},
   "outputs": [
    {
     "name": "stdout",
     "output_type": "stream",
     "text": [
      "\n",
      "=== Restriction Matrix (Selected Categories) ===\n"
     ]
    },
    {
     "data": {
      "text/html": [
       "<div>\n",
       "<style scoped>\n",
       "    .dataframe tbody tr th:only-of-type {\n",
       "        vertical-align: middle;\n",
       "    }\n",
       "\n",
       "    .dataframe tbody tr th {\n",
       "        vertical-align: top;\n",
       "    }\n",
       "\n",
       "    .dataframe thead th {\n",
       "        text-align: right;\n",
       "    }\n",
       "</style>\n",
       "<table border=\"1\" class=\"dataframe\">\n",
       "  <thead>\n",
       "    <tr style=\"text-align: right;\">\n",
       "      <th></th>\n",
       "      <th>Name</th>\n",
       "      <th>MEAT</th>\n",
       "      <th>DAIRY</th>\n",
       "      <th>EGGS</th>\n",
       "      <th>FISH</th>\n",
       "      <th>SHELLFISH</th>\n",
       "      <th>NUTS</th>\n",
       "    </tr>\n",
       "  </thead>\n",
       "  <tbody>\n",
       "    <tr>\n",
       "      <th>0</th>\n",
       "      <td>Alice</td>\n",
       "      <td>❌</td>\n",
       "      <td>❌</td>\n",
       "      <td>❌</td>\n",
       "      <td>❌</td>\n",
       "      <td>❌</td>\n",
       "      <td>✅</td>\n",
       "    </tr>\n",
       "    <tr>\n",
       "      <th>1</th>\n",
       "      <td>Bob</td>\n",
       "      <td>❌</td>\n",
       "      <td>✅</td>\n",
       "      <td>✅</td>\n",
       "      <td>❌</td>\n",
       "      <td>❌</td>\n",
       "      <td>✅</td>\n",
       "    </tr>\n",
       "    <tr>\n",
       "      <th>2</th>\n",
       "      <td>Charlie</td>\n",
       "      <td>✅</td>\n",
       "      <td>✅</td>\n",
       "      <td>✅</td>\n",
       "      <td>✅</td>\n",
       "      <td>✅</td>\n",
       "      <td>❌</td>\n",
       "    </tr>\n",
       "    <tr>\n",
       "      <th>3</th>\n",
       "      <td>Diana</td>\n",
       "      <td>✅</td>\n",
       "      <td>✅</td>\n",
       "      <td>✅</td>\n",
       "      <td>✅</td>\n",
       "      <td>❌</td>\n",
       "      <td>✅</td>\n",
       "    </tr>\n",
       "    <tr>\n",
       "      <th>4</th>\n",
       "      <td>Eve</td>\n",
       "      <td>✅</td>\n",
       "      <td>✅</td>\n",
       "      <td>✅</td>\n",
       "      <td>✅</td>\n",
       "      <td>✅</td>\n",
       "      <td>✅</td>\n",
       "    </tr>\n",
       "  </tbody>\n",
       "</table>\n",
       "</div>"
      ],
      "text/plain": [
       "      Name MEAT DAIRY EGGS FISH SHELLFISH NUTS\n",
       "0    Alice    ❌     ❌    ❌    ❌         ❌    ✅\n",
       "1      Bob    ❌     ✅    ✅    ❌         ❌    ✅\n",
       "2  Charlie    ✅     ✅    ✅    ✅         ✅    ❌\n",
       "3    Diana    ✅     ✅    ✅    ✅         ❌    ✅\n",
       "4      Eve    ✅     ✅    ✅    ✅         ✅    ✅"
      ]
     },
     "execution_count": 23,
     "metadata": {},
     "output_type": "execute_result"
    }
   ],
   "source": [
    "# Show restriction matrix with specific categories\n",
    "print(\"\\n=== Restriction Matrix (Selected Categories) ===\")\n",
    "selected_categories = [\"MEAT\", \"DAIRY\", \"EGGS\", \"FISH\", \"SHELLFISH\", \"NUTS\"]\n",
    "analyzer.get_restriction_matrix(use_emojis=True, categories=selected_categories)"
   ]
  },
  {
   "cell_type": "code",
   "execution_count": 24,
   "id": "f6d46e86",
   "metadata": {},
   "outputs": [
    {
     "name": "stdout",
     "output_type": "stream",
     "text": [
      "=== Guest List Meal Compatibility Matrix (With Emojis) ===\n"
     ]
    },
    {
     "data": {
      "text/html": [
       "<div>\n",
       "<style scoped>\n",
       "    .dataframe tbody tr th:only-of-type {\n",
       "        vertical-align: middle;\n",
       "    }\n",
       "\n",
       "    .dataframe tbody tr th {\n",
       "        vertical-align: top;\n",
       "    }\n",
       "\n",
       "    .dataframe thead th {\n",
       "        text-align: right;\n",
       "    }\n",
       "</style>\n",
       "<table border=\"1\" class=\"dataframe\">\n",
       "  <thead>\n",
       "    <tr style=\"text-align: right;\">\n",
       "      <th></th>\n",
       "      <th>Meal</th>\n",
       "      <th>Alice</th>\n",
       "      <th>Bob</th>\n",
       "      <th>Charlie</th>\n",
       "      <th>Diana</th>\n",
       "      <th>Eve</th>\n",
       "    </tr>\n",
       "  </thead>\n",
       "  <tbody>\n",
       "    <tr>\n",
       "      <th>0</th>\n",
       "      <td>Cheese &amp; Almond Plate</td>\n",
       "      <td>❌</td>\n",
       "      <td>✅</td>\n",
       "      <td>❌</td>\n",
       "      <td>✅</td>\n",
       "      <td>✅</td>\n",
       "    </tr>\n",
       "    <tr>\n",
       "      <th>1</th>\n",
       "      <td>Salmon Bowl</td>\n",
       "      <td>❌</td>\n",
       "      <td>❌</td>\n",
       "      <td>✅</td>\n",
       "      <td>✅</td>\n",
       "      <td>✅</td>\n",
       "    </tr>\n",
       "    <tr>\n",
       "      <th>2</th>\n",
       "      <td>Tofu Delight</td>\n",
       "      <td>✅</td>\n",
       "      <td>✅</td>\n",
       "      <td>✅</td>\n",
       "      <td>✅</td>\n",
       "      <td>✅</td>\n",
       "    </tr>\n",
       "  </tbody>\n",
       "</table>\n",
       "</div>"
      ],
      "text/plain": [
       "                    Meal Alice Bob Charlie Diana Eve\n",
       "0  Cheese & Almond Plate     ❌   ✅       ❌     ✅   ✅\n",
       "1            Salmon Bowl     ❌   ❌       ✅     ✅   ✅\n",
       "2           Tofu Delight     ✅   ✅       ✅     ✅   ✅"
      ]
     },
     "execution_count": 24,
     "metadata": {},
     "output_type": "execute_result"
    }
   ],
   "source": [
    "# Analyze meal compatibility for the guest list\n",
    "meals = [\n",
    "    Meal(\"Cheese & Almond Plate\", [cheese, almond]),\n",
    "    Meal(\"Salmon Bowl\", [salmon]),\n",
    "    Meal(\"Tofu Delight\", [tofu])\n",
    "]\n",
    "meal_analyzer = analyzer.analyze_meal_compatibility(meals)\n",
    "print(\"=== Guest List Meal Compatibility Matrix (With Emojis) ===\")\n",
    "meal_analyzer.get_compatibility_matrix(use_emojis=True)"
   ]
  }
 ],
 "metadata": {
  "kernelspec": {
   "display_name": ".venv",
   "language": "python",
   "name": "python3"
  },
  "language_info": {
   "codemirror_mode": {
    "name": "ipython",
    "version": 3
   },
   "file_extension": ".py",
   "mimetype": "text/x-python",
   "name": "python",
   "nbconvert_exporter": "python",
   "pygments_lexer": "ipython3",
   "version": "3.10.12"
  }
 },
 "nbformat": 4,
 "nbformat_minor": 5
}
