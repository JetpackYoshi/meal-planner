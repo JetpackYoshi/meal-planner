{
 "cells": [
  {
   "cell_type": "code",
   "execution_count": 1,
   "id": "0d39408d",
   "metadata": {},
   "outputs": [],
   "source": [
    "from restrictions import *"
   ]
  },
  {
   "cell_type": "code",
   "execution_count": null,
   "id": "12f53cf2",
   "metadata": {},
   "outputs": [
    {
     "name": "stdout",
     "output_type": "stream",
     "text": [
      "Meal(Cheeseburger: [BEEF, CHEESE])\n",
      "Categories: {'MEAT', 'CHEESE', 'DAIRY', 'ANIMAL_PRODUCTS', 'BEEF'}\n",
      "Vegan compatible? False\n"
     ]
    }
   ],
   "source": [
    "# Define or reset the food categories\n",
    "FoodCategory.reset()\n",
    "FoodCategory.define(\"ANIMAL_PRODUCTS\")\n",
    "FoodCategory.define(\"MEAT\", {\"ANIMAL_PRODUCTS\"})\n",
    "FoodCategory.define(\"DAIRY\", {\"ANIMAL_PRODUCTS\"})\n",
    "FoodCategory.define(\"EGGS\", {\"ANIMAL_PRODUCTS\"})\n",
    "FoodCategory.define(\"FISH\", {\"ANIMAL_PRODUCTS\"})\n",
    "FoodCategory.define(\"BEEF\", {\"MEAT\"})\n",
    "FoodCategory.define(\"CHEESE\", {\"DAIRY\"})\n",
    "FoodCategory.define(\"CHICKEN\", {\"MEAT\"})\n",
    "\n",
    "# Define a dietary restriction\n",
    "vegan = DietaryRestriction({\"ANIMAL_PRODUCTS\"})\n",
    "\n",
    "# Create a meal\n",
    "cheeseburger = Meal(\"Cheeseburger\", [\n",
    "    FoodCategory.get(\"BEEF\"),\n",
    "    FoodCategory.get(\"CHEESE\")\n",
    "])\n",
    "\n",
    "# Compatibility check\n",
    "print(cheeseburger)                                      \n",
    "print(\"Categories:\", cheeseburger.categories())          \n",
    "print(\"Vegan compatible?\", cheeseburger.is_compatible_with(vegan))  \n"
   ]
  },
  {
   "cell_type": "code",
   "execution_count": null,
   "id": "c530575e",
   "metadata": {},
   "outputs": [],
   "source": [
    "# Define dietary restrictions\n",
    "vegan = DietaryRestriction({\"ANIMAL_PRODUCTS\"})"
   ]
  },
  {
   "cell_type": "code",
   "execution_count": 3,
   "id": "37a84496",
   "metadata": {},
   "outputs": [
    {
     "name": "stdout",
     "output_type": "stream",
     "text": [
      "True\n",
      "True\n",
      "False\n",
      "[FoodCategory(ANIMAL_PRODUCTS), FoodCategory(MEAT), FoodCategory(DAIRY), FoodCategory(EGGS), FoodCategory(FISH), FoodCategory(BEEF), FoodCategory(CHEESE), FoodCategory(CHICKEN)]\n"
     ]
    }
   ],
   "source": [
    "beef = FoodCategory.get(\"BEEF\")\n",
    "print(beef.is_a(\"MEAT\"))            # True\n",
    "print(beef.is_a(\"ANIMAL_PRODUCTS\")) # True\n",
    "print(beef.is_a(\"NUTS\"))            # False\n",
    "\n",
    "animal_products = FoodCategory.get(\"ANIMAL_PRODUCTS\")\n",
    "print(animal_products.all())            # set()\n"
   ]
  },
  {
   "cell_type": "code",
   "execution_count": 4,
   "id": "31700784",
   "metadata": {},
   "outputs": [
    {
     "name": "stdout",
     "output_type": "stream",
     "text": [
      "Vegan compatible: False\n",
      "Vegetarian compatible: False\n"
     ]
    }
   ],
   "source": [
    "vegan = DietaryRestriction({\"ANIMAL_PRODUCTS\"})\n",
    "vegetarian = DietaryRestriction({\"MEAT\", \"FISH\", \"SHELLFISH\"})\n",
    "\n",
    "meal = [FoodCategory.get(\"CHEESE\"), FoodCategory.get(\"CHICKEN\")]\n",
    "\n",
    "print(\"Vegan compatible:\", vegan.is_compatible_with(meal))        # False\n",
    "print(\"Vegetarian compatible:\", vegetarian.is_compatible_with(meal))  # False\n"
   ]
  },
  {
   "cell_type": "code",
   "execution_count": 5,
   "id": "f0f869ba",
   "metadata": {},
   "outputs": [
    {
     "name": "stdout",
     "output_type": "stream",
     "text": [
      "{'DAIRY', 'ANIMAL_PRODUCTS'}\n"
     ]
    }
   ],
   "source": [
    "cheese = FoodCategory.get(\"CHEESE\")\n",
    "print(cheese.ancestors())  # Expected: {'DAIRY', 'ANIMAL_PRODUCTS'}\n"
   ]
  }
 ],
 "metadata": {
  "kernelspec": {
   "display_name": ".venv",
   "language": "python",
   "name": "python3"
  },
  "language_info": {
   "codemirror_mode": {
    "name": "ipython",
    "version": 3
   },
   "file_extension": ".py",
   "mimetype": "text/x-python",
   "name": "python",
   "nbconvert_exporter": "python",
   "pygments_lexer": "ipython3",
   "version": "3.10.12"
  }
 },
 "nbformat": 4,
 "nbformat_minor": 5
}
