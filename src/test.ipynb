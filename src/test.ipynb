{
 "cells": [
  {
   "cell_type": "code",
   "execution_count": 1,
   "id": "0d39408d",
   "metadata": {},
   "outputs": [],
   "source": [
    "from restrictions import *"
   ]
  },
  {
   "cell_type": "code",
   "execution_count": 2,
   "id": "12f53cf2",
   "metadata": {},
   "outputs": [
    {
     "data": {
      "text/plain": [
       "FoodCategory(ANIMAL_PRODUCTS)"
      ]
     },
     "execution_count": 2,
     "metadata": {},
     "output_type": "execute_result"
    }
   ],
   "source": [
    "# Base categories\n",
    "FoodCategory(\"MEAT\")\n",
    "FoodCategory(\"DAIRY\")\n",
    "FoodCategory(\"EGGS\")\n",
    "FoodCategory(\"SHELLFISH\")\n",
    "FoodCategory(\"FISH\")\n",
    "FoodCategory(\"NUTS\")\n",
    "FoodCategory(\"GLUTEN\")\n",
    "\n",
    "# Subcategories\n",
    "FoodCategory(\"BEEF\", {\"MEAT\"})\n",
    "FoodCategory(\"CHICKEN\", {\"MEAT\"})\n",
    "FoodCategory(\"CHEESE\", {\"DAIRY\"})\n",
    "\n",
    "# Composite/umbrella category\n",
    "FoodCategory(\"ANIMAL_PRODUCTS\", {\"MEAT\", \"DAIRY\", \"EGGS\", \"FISH\"})\n"
   ]
  },
  {
   "cell_type": "code",
   "execution_count": null,
   "id": "37a84496",
   "metadata": {},
   "outputs": [
    {
     "name": "stdout",
     "output_type": "stream",
     "text": [
      "True\n",
      "False\n",
      "False\n",
      "{'MEAT'}\n"
     ]
    }
   ],
   "source": [
    "beef = FoodCategory.get(\"BEEF\")\n",
    "print(beef.is_a(\"MEAT\"))            # True\n",
    "print(beef.is_a(\"ANIMAL_PRODUCTS\")) # True\n",
    "print(beef.is_a(\"NUTS\"))            # False\n",
    "\n",
    "animal_products = FoodCategory.get(\"ANIMAL_PRODUCTS\")\n",
    "print(animal_products.ancestors())            # set()\n"
   ]
  }
 ],
 "metadata": {
  "kernelspec": {
   "display_name": ".venv",
   "language": "python",
   "name": "python3"
  },
  "language_info": {
   "codemirror_mode": {
    "name": "ipython",
    "version": 3
   },
   "file_extension": ".py",
   "mimetype": "text/x-python",
   "name": "python",
   "nbconvert_exporter": "python",
   "pygments_lexer": "ipython3",
   "version": "3.10.12"
  }
 },
 "nbformat": 4,
 "nbformat_minor": 5
}
