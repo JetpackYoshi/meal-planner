{
 "cells": [
  {
   "cell_type": "code",
   "execution_count": 1,
   "id": "0d39408d",
   "metadata": {},
   "outputs": [
    {
     "ename": "ImportError",
     "evalue": "cannot import name 'DietaryRestriction' from partially initialized module 'restrictions' (most likely due to a circular import) (/home/yoshika/repos/meal-planner/src/restrictions.py)",
     "output_type": "error",
     "traceback": [
      "\u001b[0;31m---------------------------------------------------------------------------\u001b[0m",
      "\u001b[0;31mImportError\u001b[0m                               Traceback (most recent call last)",
      "Cell \u001b[0;32mIn[1], line 1\u001b[0m\n\u001b[0;32m----> 1\u001b[0m \u001b[38;5;28;01mfrom\u001b[39;00m\u001b[38;5;250m \u001b[39m\u001b[38;5;21;01mrestrictions\u001b[39;00m\u001b[38;5;250m \u001b[39m\u001b[38;5;28;01mimport\u001b[39;00m \u001b[38;5;241m*\u001b[39m\n",
      "File \u001b[0;32m~/repos/meal-planner/src/restrictions.py:4\u001b[0m\n\u001b[1;32m      1\u001b[0m \u001b[38;5;28;01mimport\u001b[39;00m\u001b[38;5;250m \u001b[39m\u001b[38;5;21;01mpandas\u001b[39;00m\u001b[38;5;250m \u001b[39m\u001b[38;5;28;01mas\u001b[39;00m\u001b[38;5;250m \u001b[39m\u001b[38;5;21;01mpd\u001b[39;00m\n\u001b[1;32m      2\u001b[0m \u001b[38;5;28;01mfrom\u001b[39;00m\u001b[38;5;250m \u001b[39m\u001b[38;5;21;01mtyping\u001b[39;00m\u001b[38;5;250m \u001b[39m\u001b[38;5;28;01mimport\u001b[39;00m Literal\n\u001b[0;32m----> 4\u001b[0m \u001b[38;5;28;01mfrom\u001b[39;00m\u001b[38;5;250m \u001b[39m\u001b[38;5;21;01mtags\u001b[39;00m\u001b[38;5;250m \u001b[39m\u001b[38;5;28;01mimport\u001b[39;00m \u001b[38;5;241m*\u001b[39m\n\u001b[1;32m      6\u001b[0m \u001b[38;5;28;01mclass\u001b[39;00m\u001b[38;5;250m \u001b[39m\u001b[38;5;21;01mFoodCategory\u001b[39;00m:\n\u001b[1;32m      7\u001b[0m     _registry: \u001b[38;5;28mdict\u001b[39m[\u001b[38;5;28mstr\u001b[39m, \u001b[38;5;124m'\u001b[39m\u001b[38;5;124mFoodCategory\u001b[39m\u001b[38;5;124m'\u001b[39m] \u001b[38;5;241m=\u001b[39m {}\n",
      "File \u001b[0;32m~/repos/meal-planner/src/tags.py:2\u001b[0m\n\u001b[1;32m      1\u001b[0m \u001b[38;5;28;01mfrom\u001b[39;00m\u001b[38;5;250m \u001b[39m\u001b[38;5;21;01mcollections\u001b[39;00m\u001b[38;5;250m \u001b[39m\u001b[38;5;28;01mimport\u001b[39;00m OrderedDict\n\u001b[0;32m----> 2\u001b[0m \u001b[38;5;28;01mfrom\u001b[39;00m\u001b[38;5;250m \u001b[39m\u001b[38;5;21;01mrestrictions\u001b[39;00m\u001b[38;5;250m \u001b[39m\u001b[38;5;28;01mimport\u001b[39;00m DietaryRestriction\n\u001b[1;32m      4\u001b[0m \u001b[38;5;28;01mclass\u001b[39;00m\u001b[38;5;250m \u001b[39m\u001b[38;5;21;01mTagRegistry\u001b[39;00m:\n\u001b[1;32m      5\u001b[0m     \u001b[38;5;28;01mdef\u001b[39;00m\u001b[38;5;250m \u001b[39m\u001b[38;5;21m__init__\u001b[39m(\u001b[38;5;28mself\u001b[39m):\n\u001b[1;32m      6\u001b[0m         \u001b[38;5;66;03m# Order = priority (first match wins)\u001b[39;00m\n",
      "\u001b[0;31mImportError\u001b[0m: cannot import name 'DietaryRestriction' from partially initialized module 'restrictions' (most likely due to a circular import) (/home/yoshika/repos/meal-planner/src/restrictions.py)"
     ]
    }
   ],
   "source": [
    "from restrictions import *"
   ]
  },
  {
   "cell_type": "code",
   "execution_count": null,
   "id": "12f53cf2",
   "metadata": {},
   "outputs": [
    {
     "data": {
      "text/plain": [
       "FoodCategory(ALMOND)"
      ]
     },
     "execution_count": 2,
     "metadata": {},
     "output_type": "execute_result"
    }
   ],
   "source": [
    "# Setup categories\n",
    "FoodCategory.reset()\n",
    "FoodCategory.define(\"ANIMAL_PRODUCTS\")\n",
    "FoodCategory.define(\"MEAT\", {\"ANIMAL_PRODUCTS\"})\n",
    "FoodCategory.define(\"DAIRY\", {\"ANIMAL_PRODUCTS\"})\n",
    "FoodCategory.define(\"EGGS\", {\"ANIMAL_PRODUCTS\"})\n",
    "FoodCategory.define(\"FISH\", {\"ANIMAL_PRODUCTS\"})\n",
    "\n",
    "FoodCategory.define(\"NUTS\")\n",
    "FoodCategory.define(\"CHEESE\", {\"DAIRY\"})\n",
    "FoodCategory.define(\"CHICKEN\", {\"MEAT\"})\n",
    "FoodCategory.define(\"BEEF\", {\"MEAT\"})\n",
    "FoodCategory.define(\"ALMOND\", {\"NUTS\"})"
   ]
  },
  {
   "cell_type": "code",
   "execution_count": null,
   "id": "c530575e",
   "metadata": {},
   "outputs": [],
   "source": [
    "# Define restrictions\n",
    "vegan = DietaryRestriction({\"ANIMAL_PRODUCTS\"})\n",
    "vegetarian = DietaryRestriction({\"MEAT\", \"FISH\"})\n",
    "pescatarian = DietaryRestriction({\"MEAT\"})\n",
    "nut_free = DietaryRestriction({\"NUTS\"})\n",
    "dairy_free = DietaryRestriction({\"DAIRY\"})"
   ]
  },
  {
   "cell_type": "code",
   "execution_count": null,
   "id": "86381a25",
   "metadata": {},
   "outputs": [],
   "source": [
    "# Create some ingredients\n",
    "salmon = Ingredient(\"Salmon Fillet\", FoodCategory.get(\"FISH\"), 200)\n",
    "cheese = Ingredient(\"Cheddar Cheese\", FoodCategory.get(\"CHEESE\"), 113, {\"milk\"})\n",
    "chicken = Ingredient(\"Grilled Chicken\", FoodCategory.get(\"CHICKEN\"), 165)\n",
    "almonds = Ingredient(\"Sliced Almonds\", FoodCategory.get(\"ALMOND\"), 170, {\"nuts\"})"
   ]
  },
  {
   "cell_type": "code",
   "execution_count": null,
   "id": "21eacb19",
   "metadata": {},
   "outputs": [],
   "source": [
    "# People\n",
    "people = [\n",
    "    Person(\"Alex\", tag=\"vegan\"),\n",
    "    Person(\"Jamie\", restriction=DietaryRestriction({\"MEAT\"})),\n",
    "    Person(\"Sam\", restriction=nut_free),\n",
    "]"
   ]
  },
  {
   "cell_type": "code",
   "execution_count": null,
   "id": "c0868d40",
   "metadata": {},
   "outputs": [
    {
     "name": "stdout",
     "output_type": "stream",
     "text": [
      "                Alex [VEGAN] Jamie [PESCATARIAN] Sam [NUTS-FREE]\n",
      "Grilled Salmon             ❌                   ✅               ✅\n",
      "Chicken Alfredo            ❌                   ❌               ✅\n",
      "Vegan Bowl                 ✅                   ✅               ✅\n",
      "Nutty Salad                ✅                   ✅               ❌\n",
      "Plain Rice                 ✅                   ✅               ✅\n",
      "\n",
      "=== Meal Compatibility Scores ===\n",
      "Grilled Salmon     2\n",
      "Chicken Alfredo    1\n",
      "Vegan Bowl         3\n",
      "Nutty Salad        2\n",
      "Plain Rice         3\n",
      "dtype: int64\n",
      "\n",
      "=== Most Compatible Meals ===\n",
      "            Alex [VEGAN]  Jamie [PESCATARIAN]  Sam [NUTS-FREE]  \\\n",
      "Vegan Bowl          True                 True             True   \n",
      "Plain Rice          True                 True             True   \n",
      "\n",
      "            Compatible_Count  \n",
      "Vegan Bowl                 3  \n",
      "Plain Rice                 3  \n",
      "\n",
      "=== Universally Compatible Meals ===\n",
      "            Alex [VEGAN]  Jamie [PESCATARIAN]  Sam [NUTS-FREE]\n",
      "Vegan Bowl          True                 True             True\n",
      "Plain Rice          True                 True             True\n"
     ]
    }
   ],
   "source": [
    "# Meals\n",
    "meals = [\n",
    "    Meal(\"Grilled Salmon\", [salmon]),\n",
    "    Meal(\"Chicken Alfredo\", [chicken, cheese]),\n",
    "    Meal(\"Vegan Bowl\", []),\n",
    "    Meal(\"Nutty Salad\", [almonds]),\n",
    "    Meal(\"Plain Rice\", []),\n",
    "]\n",
    "\n",
    "analyzer = MealCompatibilityAnalyzer(meals, people)\n",
    "\n",
    "# Print the raw matrix\n",
    "analyzer.print_matrix()\n",
    "\n",
    "# Score meals\n",
    "print(\"\\n=== Meal Compatibility Scores ===\")\n",
    "print(analyzer.score_meals())\n",
    "\n",
    "# Show top 2 most compatible meals\n",
    "print(\"\\n=== Most Compatible Meals ===\")\n",
    "print(analyzer.get_most_compatible_meals(top_n=2))\n",
    "\n",
    "# Universally compatible\n",
    "print(\"\\n=== Universally Compatible Meals ===\")\n",
    "print(analyzer.get_universally_compatible_meals())\n",
    "\n"
   ]
  },
  {
   "cell_type": "code",
   "execution_count": null,
   "id": "6f727961",
   "metadata": {},
   "outputs": [
    {
     "ename": "NameError",
     "evalue": "name 'tag_registry' is not defined",
     "output_type": "error",
     "traceback": [
      "\u001b[0;31m---------------------------------------------------------------------------\u001b[0m",
      "\u001b[0;31mNameError\u001b[0m                                 Traceback (most recent call last)",
      "Cell \u001b[0;32mIn[2], line 1\u001b[0m\n\u001b[0;32m----> 1\u001b[0m \u001b[38;5;28;01mfor\u001b[39;00m tag \u001b[38;5;129;01min\u001b[39;00m \u001b[43mtag_registry\u001b[49m\u001b[38;5;241m.\u001b[39mall_tags():\n\u001b[1;32m      2\u001b[0m     \u001b[38;5;28mprint\u001b[39m(\u001b[38;5;124mf\u001b[39m\u001b[38;5;124m\"\u001b[39m\u001b[38;5;132;01m{\u001b[39;00mtag\u001b[38;5;132;01m}\u001b[39;00m\u001b[38;5;124m: excludes \u001b[39m\u001b[38;5;132;01m{\u001b[39;00mtag_registry\u001b[38;5;241m.\u001b[39mget_tag(tag)\u001b[38;5;241m.\u001b[39mexcluded\u001b[38;5;132;01m}\u001b[39;00m\u001b[38;5;124m\"\u001b[39m)\n",
      "\u001b[0;31mNameError\u001b[0m: name 'tag_registry' is not defined"
     ]
    }
   ],
   "source": [
    "from tags import *\n",
    "\n",
    "for tag in tag_registry.all_tags():\n",
    "    print(f\"{tag}: excludes {tag_registry.get_tag(tag).excluded}\")\n"
   ]
  }
 ],
 "metadata": {
  "kernelspec": {
   "display_name": ".venv",
   "language": "python",
   "name": "python3"
  },
  "language_info": {
   "codemirror_mode": {
    "name": "ipython",
    "version": 3
   },
   "file_extension": ".py",
   "mimetype": "text/x-python",
   "name": "python",
   "nbconvert_exporter": "python",
   "pygments_lexer": "ipython3",
   "version": "3.10.12"
  }
 },
 "nbformat": 4,
 "nbformat_minor": 5
}
