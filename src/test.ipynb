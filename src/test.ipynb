{
 "cells": [
  {
   "cell_type": "code",
   "execution_count": 1,
   "id": "0d39408d",
   "metadata": {},
   "outputs": [],
   "source": [
    "from restrictions import *"
   ]
  },
  {
   "cell_type": "code",
   "execution_count": 2,
   "id": "12f53cf2",
   "metadata": {},
   "outputs": [
    {
     "data": {
      "text/plain": [
       "FoodCategory(ALMOND)"
      ]
     },
     "execution_count": 2,
     "metadata": {},
     "output_type": "execute_result"
    }
   ],
   "source": [
    "# Setup categories\n",
    "FoodCategory.reset()\n",
    "FoodCategory.define(\"ANIMAL_PRODUCTS\")\n",
    "FoodCategory.define(\"MEAT\", {\"ANIMAL_PRODUCTS\"})\n",
    "FoodCategory.define(\"DAIRY\", {\"ANIMAL_PRODUCTS\"})\n",
    "FoodCategory.define(\"EGGS\", {\"ANIMAL_PRODUCTS\"})\n",
    "FoodCategory.define(\"FISH\", {\"ANIMAL_PRODUCTS\"})\n",
    "\n",
    "FoodCategory.define(\"NUTS\")\n",
    "FoodCategory.define(\"CHEESE\", {\"DAIRY\"})\n",
    "FoodCategory.define(\"CHICKEN\", {\"MEAT\"})\n",
    "FoodCategory.define(\"BEEF\", {\"MEAT\"})\n",
    "FoodCategory.define(\"ALMOND\", {\"NUTS\"})"
   ]
  },
  {
   "cell_type": "code",
   "execution_count": 3,
   "id": "c530575e",
   "metadata": {},
   "outputs": [],
   "source": [
    "# Define restrictions\n",
    "vegan = DietaryRestriction({\"ANIMAL_PRODUCTS\"})\n",
    "vegetarian = DietaryRestriction({\"MEAT\", \"FISH\"})\n",
    "pescatarian = DietaryRestriction({\"MEAT\"})\n",
    "nut_free = DietaryRestriction({\"NUTS\"})\n",
    "dairy_free = DietaryRestriction({\"DAIRY\"})"
   ]
  },
  {
   "cell_type": "code",
   "execution_count": 4,
   "id": "86381a25",
   "metadata": {},
   "outputs": [],
   "source": [
    "# Create some ingredients\n",
    "salmon = Ingredient(\"Salmon Fillet\", FoodCategory.get(\"FISH\"), 200)\n",
    "cheese = Ingredient(\"Cheddar Cheese\", FoodCategory.get(\"CHEESE\"), 113, {\"milk\"})\n",
    "chicken = Ingredient(\"Grilled Chicken\", FoodCategory.get(\"CHICKEN\"), 165)\n",
    "almonds = Ingredient(\"Sliced Almonds\", FoodCategory.get(\"ALMOND\"), 170, {\"nuts\"})"
   ]
  },
  {
   "cell_type": "code",
   "execution_count": 5,
   "id": "21eacb19",
   "metadata": {},
   "outputs": [],
   "source": [
    "# People\n",
    "people = [\n",
    "    Person(\"Alex\", vegan),\n",
    "    Person(\"Jamie\", pescatarian),\n",
    "    Person(\"Sam\", nut_free),\n",
    "]"
   ]
  },
  {
   "cell_type": "code",
   "execution_count": null,
   "id": "c0868d40",
   "metadata": {},
   "outputs": [
    {
     "name": "stdout",
     "output_type": "stream",
     "text": [
      "=== Plain Table ===\n",
      "                Alex Jamie Sam\n",
      "Grilled Salmon     ❌     ✅   ✅\n",
      "Chicken Alfredo    ❌     ❌   ✅\n",
      "Vegan Bowl         ✅     ✅   ✅\n",
      "Nutty Salad        ✅     ✅   ❌\n",
      "Plain Rice         ✅     ✅   ✅\n",
      "\n",
      "=== Markdown Table ===\n",
      "|                 | Alex   | Jamie   | Sam   |\n",
      "|:----------------|:-------|:--------|:------|\n",
      "| Grilled Salmon  | ❌     | ✅      | ✅    |\n",
      "| Chicken Alfredo | ❌     | ❌      | ✅    |\n",
      "| Vegan Bowl      | ✅     | ✅      | ✅    |\n",
      "| Nutty Salad     | ✅     | ✅      | ❌    |\n",
      "| Plain Rice      | ✅     | ✅      | ✅    |\n"
     ]
    }
   ],
   "source": [
    "# Meals\n",
    "meals = [\n",
    "    Meal(\"Grilled Salmon\", [salmon]),\n",
    "    Meal(\"Chicken Alfredo\", [chicken, cheese]),\n",
    "    Meal(\"Vegan Bowl\", []),\n",
    "    Meal(\"Nutty Salad\", [almonds]),\n",
    "    Meal(\"Plain Rice\", []),\n",
    "]\n",
    "\n",
    "analyzer = MealCompatibilityAnalyzer(meals, people)\n",
    "\n",
    "# Display in terminal\n",
    "analyzer.print_matrix(\"plain\")      # ✅❌ table\n",
    "analyzer.print_matrix(\"markdown\")   # GitHub-friendly markdown\n",
    "\n",
    "# Optional exports\n",
    "# analyzer.export_csv(\"matrix.csv\")\n",
    "# analyzer.export_markdown(\"matrix.md\")\n",
    "\n",
    "# Use the matrix directly (e.g., for filtering or analysis)\n",
    "df = analyzer.get_matrix()\n",
    "print(\"Meals compatible with all:\", df[df.all(axis=1)].index.tolist())\n"
   ]
  },
  {
   "cell_type": "code",
   "execution_count": 6,
   "id": "e070a355",
   "metadata": {},
   "outputs": [
    {
     "name": "stdout",
     "output_type": "stream",
     "text": [
      "Meal(Chicken Plate, 3 items, 448.0 kcal)\n",
      "Total categories: {'DAIRY', 'MEAT', 'CHEESE', 'ALMOND', 'CHICKEN', 'ANIMAL_PRODUCTS', 'NUTS'}\n",
      "Calories: 448\n",
      "Compatible with vegan? False\n",
      "Compatible with Vegetarian? False\n",
      "Compatible with group? False\n"
     ]
    }
   ],
   "source": [
    "plate = plate1\n",
    "\n",
    "group = [vegan, nut_free, dairy_free]\n",
    "\n",
    "# Print meal summary\n",
    "print(plate)\n",
    "print(\"Total categories:\", plate.categories())\n",
    "print(\"Calories:\", plate.total_calories())\n",
    "print(\"Compatible with vegan?\", plate.is_compatible_with(vegan))\n",
    "print(\"Compatible with Vegetarian?\", plate.is_compatible_with(vegetarian))\n",
    "print(\"Compatible with group?\", plate.is_compatible_with_group(group))"
   ]
  },
  {
   "cell_type": "code",
   "execution_count": 7,
   "id": "37a84496",
   "metadata": {},
   "outputs": [
    {
     "name": "stdout",
     "output_type": "stream",
     "text": [
      "True\n",
      "True\n",
      "False\n",
      "[FoodCategory(ANIMAL_PRODUCTS), FoodCategory(MEAT), FoodCategory(DAIRY), FoodCategory(EGGS), FoodCategory(FISH), FoodCategory(NUTS), FoodCategory(CHEESE), FoodCategory(CHICKEN), FoodCategory(BEEF), FoodCategory(ALMOND)]\n"
     ]
    }
   ],
   "source": [
    "beef = FoodCategory.get(\"BEEF\")\n",
    "print(beef.is_a(\"MEAT\"))            # True\n",
    "print(beef.is_a(\"ANIMAL_PRODUCTS\")) # True\n",
    "print(beef.is_a(\"NUTS\"))            # False\n",
    "\n",
    "animal_products = FoodCategory.get(\"ANIMAL_PRODUCTS\")\n",
    "print(animal_products.all())            # set()\n"
   ]
  },
  {
   "cell_type": "code",
   "execution_count": null,
   "id": "321093a8",
   "metadata": {},
   "outputs": [],
   "source": []
  }
 ],
 "metadata": {
  "kernelspec": {
   "display_name": ".venv",
   "language": "python",
   "name": "python3"
  },
  "language_info": {
   "codemirror_mode": {
    "name": "ipython",
    "version": 3
   },
   "file_extension": ".py",
   "mimetype": "text/x-python",
   "name": "python",
   "nbconvert_exporter": "python",
   "pygments_lexer": "ipython3",
   "version": "3.10.12"
  }
 },
 "nbformat": 4,
 "nbformat_minor": 5
}
